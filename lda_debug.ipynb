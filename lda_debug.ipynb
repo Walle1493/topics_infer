{
 "metadata": {
  "language_info": {
   "codemirror_mode": {
    "name": "ipython",
    "version": 3
   },
   "file_extension": ".py",
   "mimetype": "text/x-python",
   "name": "python",
   "nbconvert_exporter": "python",
   "pygments_lexer": "ipython3",
   "version": "3.8.0-final"
  },
  "orig_nbformat": 2,
  "kernelspec": {
   "name": "python3",
   "display_name": "Python 3",
   "language": "python"
  }
 },
 "nbformat": 4,
 "nbformat_minor": 2,
 "cells": [
  {
   "cell_type": "code",
   "execution_count": 1,
   "metadata": {},
   "outputs": [],
   "source": [
    "import jieba\n",
    "import os\n",
    "import re\n",
    "import argparse\n",
    "import pickle\n",
    "import pandas as pd\n",
    "from gensim import corpora, models, similarities\n",
    "from utils import *\n",
    "import logging\n",
    "# logging.basicConfig(format='%(asctime)s : %(levelname)s : %(message)s', level=logging.INFO)\n",
    "\n",
    "# * Load input data.\n",
    "def load_documents(input_path):\n",
    "    \"\"\"Load input data\"\"\"\n",
    "    with open(input_path, encoding=\"utf-8\") as f:\n",
    "        docs = f.readlines()\n",
    "    return docs"
   ]
  },
  {
   "cell_type": "code",
   "execution_count": 2,
   "metadata": {},
   "outputs": [],
   "source": [
    "docs = load_documents(\"data/training_set.txt\")\n",
    "docs = docs[:5]"
   ]
  },
  {
   "cell_type": "code",
   "execution_count": 4,
   "metadata": {},
   "outputs": [
    {
     "output_type": "stream",
     "name": "stdout",
     "text": [
      "黄蜂vs湖人首发：科比带伤战保罗 加索尔救赎之战 新浪体育讯北京时间4月27日，NBA季后赛首轮洛杉矶湖人主场迎战新奥尔良黄蜂，此前的比赛中，双方战成2-2平，因此本场比赛对于两支球队来说都非常重要，赛前双方也公布了首发阵容：湖人队：费舍尔、科比、阿泰斯特、加索尔、拜纳姆黄蜂队：保罗、贝里内利、阿里扎、兰德里、奥卡福[新浪NBA官方微博][新浪NBA湖人新闻动态微博][新浪NBA专题][黄蜂vs湖人图文直播室](新浪体育)\n\n"
     ]
    }
   ],
   "source": [
    "print(docs[0])"
   ]
  },
  {
   "cell_type": "code",
   "execution_count": 5,
   "metadata": {},
   "outputs": [],
   "source": [
    "# * Pre-process that data.\n",
    "def pre_process(docs, stopwords_path):\n",
    "    \"\"\"Pre-process that data\"\"\"\n",
    "    stopwords = stopwords_list(stopwords_path)\n",
    "\n",
    "    new_docs = []\n",
    "    # 给每个文档分词\n",
    "    for doc in docs:\n",
    "        doc = re.sub(r'[^\\u4e00-\\u9fa5]+','', doc)\n",
    "        doc_token = tokenize(doc.strip(), stopwords)\n",
    "        new_docs.append(doc_token)\n",
    "    \n",
    "    train_docs = []\n",
    "    for doc in new_docs:\n",
    "        train_doc = [word.strip() for word in doc.split()]\n",
    "        train_docs.append(train_doc)\n",
    "\n",
    "    return train_docs"
   ]
  },
  {
   "cell_type": "code",
   "execution_count": 6,
   "metadata": {},
   "outputs": [
    {
     "output_type": "stream",
     "name": "stderr",
     "text": [
      "Building prefix dict from the default dictionary ...\n",
      "Loading model from cache C:\\Users\\ADMINI~1\\AppData\\Local\\Temp\\jieba.cache\n",
      "Loading model cost 0.737 seconds.\n",
      "Prefix dict has been built successfully.\n"
     ]
    }
   ],
   "source": [
    "docs = pre_process(docs, \"data/stopwords.txt\")"
   ]
  },
  {
   "cell_type": "code",
   "execution_count": 8,
   "metadata": {},
   "outputs": [
    {
     "output_type": "stream",
     "name": "stdout",
     "text": [
      "['黄蜂', '湖人', '首发', '科比', '带伤', '战', '保罗', '加索尔', '救赎', '之战', '新浪', '体育讯', '北京', '时间', '季后赛', '首轮', '洛杉矶', '湖人', '主场', '迎战', '新奥尔良', '黄蜂', '此前', '比赛', '中', '战成', '平', '本场', '比赛', '两支', '球队', '赛前', '公布', '首发', '阵容', '湖人队', '费舍尔', '科比', '阿泰斯特', '加索尔', '拜纳姆', '黄蜂队', '保罗', '贝里', '内利', '阿里', '扎', '兰德', '里', '奥卡福', '新浪', '官方', '微博', '新浪', '湖人', '新闻动态', '微博', '新浪', '专题', '黄蜂', '湖人', '图文', '直播室', '新浪', '体育']\n"
     ]
    }
   ],
   "source": [
    "print(docs[0])"
   ]
  },
  {
   "cell_type": "code",
   "execution_count": 9,
   "metadata": {},
   "outputs": [],
   "source": [
    "# * Transform documents into bag-of-words vectors.\n",
    "# * Construct dictionary.\n",
    "def construct_dictionary(docs):\n",
    "    \"\"\"Construct word frequency dictionary\"\"\"\n",
    "    dictionary = corpora.Dictionary(docs)\n",
    "    return dictionary"
   ]
  },
  {
   "cell_type": "code",
   "execution_count": 10,
   "metadata": {},
   "outputs": [],
   "source": [
    "dictionary = construct_dictionary(docs)"
   ]
  },
  {
   "cell_type": "code",
   "execution_count": 13,
   "metadata": {},
   "outputs": [
    {
     "output_type": "stream",
     "name": "stdout",
     "text": [
      "Dictionary(604 unique tokens: ['专题', '两支', '中', '主场', '之战']...)\n"
     ]
    }
   ],
   "source": [
    "print(dictionary)"
   ]
  },
  {
   "cell_type": "code",
   "execution_count": null,
   "metadata": {},
   "outputs": [],
   "source": []
  }
 ]
}